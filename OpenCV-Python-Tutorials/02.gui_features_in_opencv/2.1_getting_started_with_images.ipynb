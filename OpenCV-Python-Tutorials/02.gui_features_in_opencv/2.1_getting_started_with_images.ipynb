{
 "cells": [
  {
   "cell_type": "markdown",
   "id": "0a5e1216",
   "metadata": {
    "pycharm": {
     "name": "#%% md\n"
    }
   },
   "source": [
    "# Gui Features in OpenCV / Getting Started with Images\n",
    "\n",
    "### Goal\n",
    "1. `cv::imread`\n",
    "2. `cv::imwrite`\n",
    "3. `cv::imshow`"
   ]
  },
  {
   "cell_type": "markdown",
   "source": [
    "# Sample Code\n",
    "\n",
    "import cv2 as cv\n",
    "import sys\n",
    "\n",
    "img = cv.imread(cv.samples.findFile(\"starry_night.jpg\"))\n",
    "\n",
    "if img is None:\n",
    "    sys.exit(\"Could not read the image\")\n",
    "\n",
    "cv.imshow(\"Display window\", img)\n",
    "k = cv.waitKey(0)\n",
    "\n",
    "if k == ord(\"s\"):\n",
    "    cv.imwrite(\"starry_night.png\", img)\n",
    "\n"
   ],
   "metadata": {
    "collapsed": false,
    "pycharm": {
     "name": "#%% md\n"
    }
   }
  },
  {
   "cell_type": "markdown",
   "source": [
    "__Troubleshooting__:\n",
    "\n",
    "1. Cannot find \"Starry Night\" image.\n",
    "Ans:\n",
    "a. Download the sample images from github, https://github.com/opencv/opencv/tree/4.x/samples/data\n",
    "b. Set global environment `OPENCV_SAMPLES_DATA_PATH`\n"
   ],
   "metadata": {
    "collapsed": false,
    "pycharm": {
     "name": "#%% md\n"
    }
   }
  },
  {
   "cell_type": "code",
   "execution_count": null,
   "outputs": [],
   "source": [],
   "metadata": {
    "collapsed": false,
    "pycharm": {
     "name": "#%%\n"
    }
   }
  }
 ],
 "metadata": {
  "kernelspec": {
   "display_name": "Python 3.9.13 64-bit",
   "language": "python",
   "name": "python3"
  },
  "language_info": {
   "codemirror_mode": {
    "name": "ipython",
    "version": 3
   },
   "file_extension": ".py",
   "mimetype": "text/x-python",
   "name": "python",
   "nbconvert_exporter": "python",
   "pygments_lexer": "ipython3",
   "version": "3.9.13"
  },
  "vscode": {
   "interpreter": {
    "hash": "b0fa6594d8f4cbf19f97940f81e996739fb7646882a419484c72d19e05852a7e"
   }
  }
 },
 "nbformat": 4,
 "nbformat_minor": 5
}